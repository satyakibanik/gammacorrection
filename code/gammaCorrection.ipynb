{
 "cells": [
  {
   "cell_type": "code",
   "execution_count": 3,
   "metadata": {},
   "outputs": [],
   "source": [
    "import numpy as np\n",
    "import os\n",
    "import cv2\n",
    "import os\n",
    "import glob\n",
    "from PIL import Image"
   ]
  },
  {
   "cell_type": "code",
   "execution_count": 6,
   "metadata": {},
   "outputs": [],
   "source": [
    "folder='F:/takeImage/'\n",
    "savingfolder1='H:/GammaCorrected/0point5/'\n",
    "\n",
    "#savingfolder2='H:/GammaCorrected/1point5/'\n",
    "#savingfolder3='H:/GammaCorrected/2point5/'\n",
    "\n",
    "imList=glob.glob(folder+'*.jpg')\n",
    "\n",
    "gamma1 = 0.5\n",
    "\n",
    "#gamma2 = 1.5\n",
    "#gamma3 = 2.5\n",
    "\n",
    "n = 0\n",
    "\n",
    "def adjust_gamma(image, gamma):\n",
    "   invGamma = 1.0 / gamma\n",
    "   table = np.array([((i / 255.0) ** invGamma) * 255 for i in np.arange(0, 256)]).astype(\"uint8\")\n",
    "   return cv2.LUT(image, table)\n",
    "\n",
    "for imgname in imList:\n",
    "    original = cv2.imread(imgname, 1)\n",
    "    \n",
    "    adjusted1 = adjust_gamma(original, gamma=gamma1)\n",
    "    \n",
    "    #adjusted2 = adjust_gamma(original, gamma=gamma2)\n",
    "    #adjusted3 = adjust_gamma(original, gamma=gamma3)\n",
    "    \n",
    "    n = n+1\n",
    "    \n",
    "    filename1 =savingfolder1 + str(n) + '.jpg'\n",
    "    cv2.imwrite(filename1, adjusted1)\n",
    "    \n",
    "    \n",
    "    '''\n",
    "    filename2 =savingfolder2 + str(n) + '.jpg'\n",
    "    cv2.imwrite(filename2, adjusted2)\n",
    "    filename3 =savingfolder3 + str(n) + '.jpg'\n",
    "    cv2.imwrite(filename3, adjusted3)\n",
    "    '''"
   ]
  },
  {
   "cell_type": "code",
   "execution_count": null,
   "metadata": {},
   "outputs": [],
   "source": []
  }
 ],
 "metadata": {
  "kernelspec": {
   "display_name": "Python 3",
   "language": "python",
   "name": "python3"
  },
  "language_info": {
   "codemirror_mode": {
    "name": "ipython",
    "version": 3
   },
   "file_extension": ".py",
   "mimetype": "text/x-python",
   "name": "python",
   "nbconvert_exporter": "python",
   "pygments_lexer": "ipython3",
   "version": "3.5.4"
  }
 },
 "nbformat": 4,
 "nbformat_minor": 2
}
